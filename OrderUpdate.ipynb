{
 "cells": [
  {
   "cell_type": "markdown",
   "id": "2d01562d",
   "metadata": {
    "tags": [],
    "toc-hr-collapsed": false
   },
   "source": [
    "# Order Updater \n",
    "\n",
    "Set the PM Instruction to \"HOLD\". If the quantity is above 100,000, set the PM Instruction to \"SPEAK TO PM\""
   ]
  },
  {
   "cell_type": "code",
   "execution_count": 1,
   "id": "8b218694",
   "metadata": {
    "tags": [
     "hide-input"
    ]
   },
   "outputs": [
    {
     "data": {
      "application/vnd.jupyter.widget-view+json": {
       "model_id": "730cf18fe82844189062485766377559",
       "version_major": 2,
       "version_minor": 0
      },
      "text/plain": [
       "Text(value='BRS-EQ-EM', description='Portfolio')"
      ]
     },
     "metadata": {},
     "output_type": "display_data"
    }
   ],
   "source": [
    "\n",
    "import sys\n",
    "import datetime\n",
    "import uuid,datetime,requests,pprint,math\n",
    "import numpy as np\n",
    "import pandas as pd\n",
    "import matplotlib.pyplot as plt\n",
    "today = datetime.datetime.now().isoformat()[:10]\n",
    "from ipywidgets import widgets\n",
    "sys.path.append('../modules')\n",
  
 
    "from spc_config import *\n",
    "def generate_headers():\n",
    "    headers = {\n",
    "        'VND.com.blackrock.API-Key': APIkey,\n",
    "        'VND.com.blackrock.Origin-Timestamp': str(datetime.datetime.utcnow().replace(microsecond=0).astimezone().isoformat()),\n",
    "        'VND.com.blackrock.Request-ID': str(uuid.uuid1())\n",
    "    }\n",
    "    return headers\n",
    "\n",
    "\n",
    "#Create a field\n",
    "pflio = widgets.Text(description = \"Portfolio\")\n",
    "pflio.value = \"BRS-EQ-EM\"\n",
    "display(pflio)"
   ]
  },
  {
   "cell_type": "code",
   "execution_count": 5,
   "id": "b26c238d",
   "metadata": {
    "scrolled": true,
    "tags": [
     "hide-input"
    ]
   },
   "outputs": [
    {
     "name": "stdout",
     "output_type": "stream",
     "text": [
      "Step 1: Retrieving order details for INTERNGRP4\n",
      "\n",
      "Found 0 open orders \n",
      "\n"
     ]
    },
    {
     "data": {
      "text/html": [
       "<div>\n",
       "<style scoped>\n",
       "    .dataframe tbody tr th:only-of-type {\n",
       "        vertical-align: middle;\n",
       "    }\n",
       "\n",
       "    .dataframe tbody tr th {\n",
       "        vertical-align: top;\n",
       "    }\n",
       "\n",
       "    .dataframe thead th {\n",
       "        text-align: right;\n",
       "    }\n",
       "</style>\n",
       "<table border=\"1\" class=\"dataframe\">\n",
       "  <thead>\n",
       "    <tr style=\"text-align: right;\">\n",
       "      <th></th>\n",
       "      <th>id</th>\n",
       "      <th>assetId</th>\n",
       "      <th>orderDate</th>\n",
       "      <th>settleDate</th>\n",
       "      <th>transactionType</th>\n",
       "      <th>orderStatus</th>\n",
       "      <th>pmInitials</th>\n",
       "      <th>traderInitials</th>\n",
       "      <th>marketPrice</th>\n",
       "    </tr>\n",
       "  </thead>\n",
       "  <tbody>\n",
       "  </tbody>\n",
       "</table>\n",
       "</div>"
      ],
      "text/plain": [
       "Empty DataFrame\n",
       "Columns: [id, assetId, orderDate, settleDate, transactionType, orderStatus, pmInitials, traderInitials, marketPrice]\n",
       "Index: []"
      ]
     },
     "execution_count": 5,
     "metadata": {},
     "output_type": "execute_result"
    }
   ],
   "source": [
    "print(f\"Step 1: Retrieving order details for {pflio.value}\\n\")\n",
    "\n",
    "# api-endpoint \n",
    "URL = f\"https://{client_env}.blackrock.com/api/trading/order-management/order/v1/orders:filter\"\n",
    "\n",
    "\n",
    "# include parameters and headers\n",
    "\n",
    "payload = {\n",
    "      \"query\": {\n",
    "     \"portfolioGroupCriterion\": {\n",
    "      \"orderStatuses\": [\n",
    "        \"Open\", \"Authorized\"\n",
    "      ],\n",
    "       \"portfolioGroupTicker\": pflio.value\n",
    "    }\n",
    "}\n",
    "}\n",
    "        \n",
    "\n",
    "\n",
    "r = requests.post(URL,auth=(username,pwd),json=payload,headers=generate_headers())\n",
    "\n",
    "# extracting data in json format \n",
    "data = r.json() \n",
    "columnOrder = ['id','assetId', 'orderDate','settleDate','transactionType','orderStatus','pmInitials','traderInitials', 'marketPrice']\n",
    "\n",
    "#printing the output \n",
    "df = pd.DataFrame(data['orders'])\n",
    "df = df[columnOrder]\n",
    "df = df[df['orderStatus'] == \"Open\"]\n",
    "print(f\"Found {len(df)} open orders \\n\")\n",
    "df"
   ]
  },
  {
   "cell_type": "code",
   "execution_count": 8,
   "id": "6d8d8bb5",
   "metadata": {
    "scrolled": true
   },
   "outputs": [
    {
     "name": "stdout",
     "output_type": "stream",
     "text": [
      "Step 3: update orders\n"
     ]
    }
   ],
   "source": [
    "print(\"Step 3: update orders\")\n",
    "\n",
    "orders = data[\"orders\"]\n",
    "orders[:] = [order for order in orders if order[\"orderStatus\"] == \"Open\"]\n",
    "\n",
    "for order in orders:\n",
    "    orderDetail = order[\"orderDetails\"][0]\n",
    "    order['pmInstruction'] = \"HOLD\"\n",
    "    if orderDetail[\"quantity\"] > 100000:\n",
    "        order['pmInstruction'] = \"SPEAK TO PM\"\n",
    "        \n",
    "#print(orders)"
   ]
  },
  {
   "cell_type": "code",
   "execution_count": 9,
   "id": "6beb6fa5",
   "metadata": {},
   "outputs": [],
   "source": [
    "removeOrder = [\"createdTimestampAtz\",\"factor\",\"factorDate\",\"interest\",\"modifiedBy\",\"modifiedTimestampUtc\",\"orderStatus\",\"principal\",\"touchCount\",\"version\",\"yield\",\"comments\"]\n",
    "removeDetail = [\"modifiedBy\",\"modifiedTimestampUtc\",\"orderReservations\",\"quantityBooked\"]\n",
    "for order in orders:\n",
    "    for k in removeOrder:\n",
    "        order.pop(k,None)\n",
    "    for detail in order[\"orderDetails\"]:\n",
    "        for k in removeDetail:\n",
    "            detail.pop(k,None)"
   ]
  },
  {
   "cell_type": "code",
   "execution_count": 10,
   "id": "938f7cc1",
   "metadata": {
    "scrolled": true
   },
   "outputs": [
    {
     "name": "stdout",
     "output_type": "stream",
     "text": [
      "Step 4: Send updated orders\n"
     ]
    },
    {
     "ename": "NameError",
     "evalue": "name 'headers' is not defined",
     "output_type": "error",
     "traceback": [
      "\u001b[1;31m---------------------------------------------------------------------------\u001b[0m",
      "\u001b[1;31mNameError\u001b[0m                                 Traceback (most recent call last)",
      "\u001b[1;32m~\\AppData\\Local\\Temp\\1/ipykernel_3604/181419068.py\u001b[0m in \u001b[0;36m<module>\u001b[1;34m\u001b[0m\n\u001b[0;32m     16\u001b[0m \u001b[1;33m\u001b[0m\u001b[0m\n\u001b[0;32m     17\u001b[0m \u001b[1;31m# sending post request and saving the response as response object\u001b[0m\u001b[1;33m\u001b[0m\u001b[1;33m\u001b[0m\u001b[0m\n\u001b[1;32m---> 18\u001b[1;33m \u001b[0mr\u001b[0m \u001b[1;33m=\u001b[0m \u001b[0mrequests\u001b[0m\u001b[1;33m.\u001b[0m\u001b[0mpost\u001b[0m\u001b[1;33m(\u001b[0m\u001b[0mURL\u001b[0m\u001b[1;33m,\u001b[0m\u001b[0mauth\u001b[0m\u001b[1;33m=\u001b[0m\u001b[1;33m(\u001b[0m\u001b[0musername\u001b[0m\u001b[1;33m,\u001b[0m\u001b[0mpwd\u001b[0m\u001b[1;33m)\u001b[0m\u001b[1;33m,\u001b[0m \u001b[0mjson\u001b[0m \u001b[1;33m=\u001b[0m \u001b[0mpayload_req\u001b[0m\u001b[1;33m,\u001b[0m \u001b[0mheaders\u001b[0m \u001b[1;33m=\u001b[0m \u001b[0mheaders\u001b[0m\u001b[1;33m)\u001b[0m\u001b[1;33m\u001b[0m\u001b[1;33m\u001b[0m\u001b[0m\n\u001b[0m\u001b[0;32m     19\u001b[0m \u001b[1;33m\u001b[0m\u001b[0m\n\u001b[0;32m     20\u001b[0m \u001b[1;33m\u001b[0m\u001b[0m\n",
      "\u001b[1;31mNameError\u001b[0m: name 'headers' is not defined"
     ]
    }
   ],
   "source": [
    "print(\"Step 4: Send updated orders\")\n",
    "\n",
    "# api-endpoint \n",
    "URL = F'https://{client_env}.blackrock.com/api/trading/order-management/order/v1/orders:batchPost'\n",
    "\n",
    "payload_req = {\n",
    "  \"options\": {\n",
    "    \"complianceTimeout\": 0,\n",
    "    \"extEntityType\": \"string\",\n",
    "    \"orgId\": 0,\n",
    "    \"runCompliance\": False,\n",
    "    \"whatIf\": False\n",
    "  },\n",
    "  \"orders\": orders\n",
    "}\n",
    "\n",
    "# sending post request and saving the response as response object \n",
    "r = requests.post(URL,auth=(username,pwd), json = payload_req, headers = headers)\n",
    "\n",
    "\n",
    "# extracting data in json format \n",
    "data_res = r.json()\n",
    "\n",
    "# printing the output \n",
    "#display(data_res)\n",
    "print(\"\\nFinished !\")"
   ]
  }
 ],
 "metadata": {
  "hide_input": false,
  "kernelspec": {
   "display_name": "Python 3 (ipykernel)",
   "language": "python",
   "name": "python3"
  },
  "language_info": {
   "codemirror_mode": {
    "name": "ipython",
    "version": 3
   },
   "file_extension": ".py",
   "mimetype": "text/x-python",
   "name": "python",
   "nbconvert_exporter": "python",
   "pygments_lexer": "ipython3",
   "version": "3.9.7"
  },
  "toc-autonumbering": false,
  "toc-showcode": true,
  "toc-showmarkdowntxt": false,
  "toc-showtags": false
 },
 "nbformat": 4,
 "nbformat_minor": 5
}
